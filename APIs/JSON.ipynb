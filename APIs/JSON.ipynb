{
  "nbformat": 4,
  "nbformat_minor": 0,
  "metadata": {
    "colab": {
      "name": "JSON.ipynb",
      "provenance": [],
      "collapsed_sections": []
    },
    "kernelspec": {
      "name": "python3",
      "display_name": "Python 3"
    }
  },
  "cells": [
    {
      "cell_type": "markdown",
      "metadata": {
        "id": "m1Tf4ZdAdDdI",
        "colab_type": "text"
      },
      "source": [
        "#Working with JSON"
      ]
    },
    {
      "cell_type": "markdown",
      "metadata": {
        "id": "-fUNumF9gNW9",
        "colab_type": "text"
      },
      "source": [
        "## Overview\n",
        "\n",
        "## What You'll Learn\n",
        "In this section, you'll learn\n",
        "1. What is a JSON\n",
        "2. JSON Dumps\n",
        "\n",
        "## Prerequisites\n",
        "Before starting this section, you should have an understanding of\n",
        "1. [File input and output](https://colab.research.google.com/github/HackBinghamton/PythonWorkshop/blob/master/Intermediate/FileIO.ipynb)\n",
        "\n",
        "## Introduction\n",
        "JSON is a common format for storing and exchanging data. JSON files can contain data types such as dictionaries and lists. They can also be composed of dictionaries of lists or lists of dictionaries. Additionally, there is the JSON python library, which contains methods such as load and dump, which can be helpful for both reading from and writing to files. \n",
        "\n",
        "## Structure of JSON files\n",
        "### Dictionaries\n",
        "Dictionaries are a data structure in which a certain piece of information or \"key\" is matched to values, similar to words and their matching values, similar to words and their defintions in a dictionary. Let's say that you wanted to store information about a specific student. You can use a dictionary to store certain characteristics such as their name and age. \n",
        "\n",
        "\n",
        "\n",
        "\n",
        "\n",
        "\n"
      ]
    },
    {
      "cell_type": "code",
      "metadata": {
        "id": "i1sjEixX_Xq-",
        "colab_type": "code",
        "colab": {
          "base_uri": "https://localhost:8080/",
          "height": 34
        },
        "outputId": "68035227-3abc-48dd-9465-4e0079cae832"
      },
      "source": [
        "{\"Name\": \"John Smith\", \"Age\": \"20\"}"
      ],
      "execution_count": 2,
      "outputs": [
        {
          "output_type": "execute_result",
          "data": {
            "text/plain": [
              "{'Age': '20', 'Name': 'John Smith'}"
            ]
          },
          "metadata": {
            "tags": []
          },
          "execution_count": 2
        }
      ]
    },
    {
      "cell_type": "markdown",
      "metadata": {
        "id": "vkN4cJxY_YMK",
        "colab_type": "text"
      },
      "source": [
        "### Lists\n",
        "Just like any other list, lists in JSON files tend to store several different pieces of data that fall under a certain category. You can use them to store multiple pieces of data that will be helpful in your program later. Here's an example of a list containing chars, or letters, but you can use lists to store variables of pretty much any data type.\n"
      ]
    },
    {
      "cell_type": "code",
      "metadata": {
        "id": "YXv8D7qP_5KG",
        "colab_type": "code",
        "colab": {
          "base_uri": "https://localhost:8080/",
          "height": 34
        },
        "outputId": "5812475c-3d0e-494e-b91e-9637640ee10f"
      },
      "source": [
        "['a', 'b', 'c', 'd']"
      ],
      "execution_count": 2,
      "outputs": [
        {
          "output_type": "execute_result",
          "data": {
            "text/plain": [
              "['a', 'b', 'c', 'd']"
            ]
          },
          "metadata": {
            "tags": []
          },
          "execution_count": 2
        }
      ]
    },
    {
      "cell_type": "markdown",
      "metadata": {
        "id": "jk2bHHxe_3TB",
        "colab_type": "text"
      },
      "source": [
        "### Lists of Dictionaries and Dictionaries of Lists\n",
        "\n",
        "Sometimes, when it comes to working with JSON files, it is useful to have a list within a dictionary and sometimes to have a dictionary within a list. \n",
        "### Lists in Dictionaries\n",
        "Let's say you wanted to use a dictionary to store specific information about a specific student. You want to store data pertaining to their name, their age, and the classes they're taking. In most cases, the student you're talking about will be taking multiple classes. This is just one instance in which it may be helpful to have a list as one of the values in your dictionary. "
      ]
    },
    {
      "cell_type": "code",
      "metadata": {
        "id": "ifXQxJrT94eb",
        "colab_type": "code",
        "colab": {
          "base_uri": "https://localhost:8080/",
          "height": 68
        },
        "outputId": "1241aa16-8d3b-4d9c-b8c7-dc98cb036f64"
      },
      "source": [
        "{\"Name\": \"John Smith\", \"Age\": \"20\", \"Classes\":[\"CS 301\", \"CS 240\", \"MATH 330\"]}"
      ],
      "execution_count": 3,
      "outputs": [
        {
          "output_type": "execute_result",
          "data": {
            "text/plain": [
              "{'Age': '20',\n",
              " 'Classes': ['CS 301', 'CS 240', 'MATH 330'],\n",
              " 'Name': 'John Smith'}"
            ]
          },
          "metadata": {
            "tags": []
          },
          "execution_count": 3
        }
      ]
    },
    {
      "cell_type": "markdown",
      "metadata": {
        "id": "tlWlhCDadrh3",
        "colab_type": "text"
      },
      "source": [
        "### Dictionaries in Lists\n",
        "Let's continue with the last of example. Perhaps within the list of classes you want to have a dictionary that contains information about the professor and the number of credits you earn for taking that class. "
      ]
    },
    {
      "cell_type": "code",
      "metadata": {
        "id": "VWPcTPB0d9QW",
        "colab_type": "code",
        "colab": {
          "base_uri": "https://localhost:8080/",
          "height": 136
        },
        "outputId": "4eb2bb3b-a211-4978-a7e3-251d68983a7b"
      },
      "source": [
        "{\"Name\": \"John Smith\", \"Age\": \"20\", \n",
        " \"Classes\":[{\"Course\": \"CS 301\", \"Professor\": \"George Weinschenk\", \"Credits\":\"4\"}, \n",
        "            {\"Course\": \"CS 240\", \"Professor\": \"Steven Moore\", \"Credits\":\"4\"},\n",
        "            {\"Course\": \"MATH 330\", \"Professor\": \"Steven Gindhi\", \"Credits\":\"4\"}]}"
      ],
      "execution_count": 4,
      "outputs": [
        {
          "output_type": "execute_result",
          "data": {
            "text/plain": [
              "{'Age': '20',\n",
              " 'Classes': [{'Course': 'CS 301',\n",
              "   'Credits': '4',\n",
              "   'Professor': 'George Weinschenk'},\n",
              "  {'Course': 'CS 240', 'Credits': '4', 'Professor': 'Steven Moore'},\n",
              "  {'Course': 'MATH 330', 'Credits': '4', 'Professor': 'Steven Gindhi'}],\n",
              " 'Name': 'John Smith'}"
            ]
          },
          "metadata": {
            "tags": []
          },
          "execution_count": 4
        }
      ]
    },
    {
      "cell_type": "markdown",
      "metadata": {
        "id": "rAZUhH6h8BYc",
        "colab_type": "text"
      },
      "source": [
        "## The JSON library\n",
        "Now that you've learned about some of the main data structures in JSON files, we are going to continue onto the JSON library, which contains a host of methods that are helpful for using and transferring data between your program and the JSON files. The first thing you need to do before trying to access any of these methods is import the JSON library in your program."
      ]
    },
    {
      "cell_type": "code",
      "metadata": {
        "id": "t-7gCTY_BW8Y",
        "colab_type": "code",
        "colab": {}
      },
      "source": [
        "import json"
      ],
      "execution_count": 4,
      "outputs": []
    },
    {
      "cell_type": "markdown",
      "metadata": {
        "id": "f7Viz3L8BZnd",
        "colab_type": "text"
      },
      "source": [
        "Among the most json methods are the following are load, loads, dump, and dumps. While some of these methods have very similar names, it is important to understand the differences between them. \n",
        "##Load and loads\n",
        "###The Load Function\n",
        "Let's say you have a json file containing a dictionary. In python, you can use the load function to **load** something from that file into a variable you declare in another file. Let's say you have a file containing a dictionary of students named Students.json. You can say something like the following to load the information from the json file into a variable."
      ]
    },
    {
      "cell_type": "code",
      "metadata": {
        "id": "0KKgXe_cdNBH",
        "colab_type": "code",
        "colab": {
          "base_uri": "https://localhost:8080/",
          "height": 34
        },
        "outputId": "ceef4de4-1026-4339-89a0-28d6f977fcd9"
      },
      "source": [
        "#makes a Student.json file containing the dictionary below\n",
        "!echo '''{\"Name\": \"John Smith\", \"Age\": \"20\"}'''> Students.json\n",
        "\n",
        "with open(\"Students.json\", \"r\") as s:\n",
        "  students=json.load(s)\n",
        "print(students)"
      ],
      "execution_count": 6,
      "outputs": [
        {
          "output_type": "stream",
          "text": [
            "{'Name': 'John Smith', 'Age': '20'}\n"
          ],
          "name": "stdout"
        }
      ]
    },
    {
      "cell_type": "markdown",
      "metadata": {
        "id": "GIB7KJJCdMFs",
        "colab_type": "text"
      },
      "source": [
        "###The Loads Function\n",
        "As opposed to the load functions, the loads function is used to transfer a dictionary to a variable when it is contained by a string. This means you won't need to open a file or anything like you did before."
      ]
    },
    {
      "cell_type": "code",
      "metadata": {
        "id": "jOR_NueFStFc",
        "colab_type": "code",
        "colab": {
          "base_uri": "https://localhost:8080/",
          "height": 51
        },
        "outputId": "60fccff1-00be-477b-bbf4-1545125c5e53"
      },
      "source": [
        "s = '{\"Name\": \"John Smith\", \"Age\": \"20\"}'\n",
        "students = json.loads(s)\n",
        "print(students['Age'])\n",
        "print(students)"
      ],
      "execution_count": 11,
      "outputs": [
        {
          "output_type": "stream",
          "text": [
            "20\n",
            "{'Name': 'John Smith', 'Age': '20'}\n"
          ],
          "name": "stdout"
        }
      ]
    },
    {
      "cell_type": "markdown",
      "metadata": {
        "id": "lKzgyHORUZJR",
        "colab_type": "text"
      },
      "source": [
        "## Dump and Dumps\n",
        "### The Dump Function\n",
        "On the contrary to the load and loads functions, dump and dumps are used to export a dictionary to a string or a file. Dump is used to export to a file. Let's use the same example as above, except this time with dump. "
      ]
    },
    {
      "cell_type": "code",
      "metadata": {
        "id": "MR9rooTcdYMm",
        "colab_type": "code",
        "colab": {
          "base_uri": "https://localhost:8080/",
          "height": 34
        },
        "outputId": "38d6f880-6385-44ae-cf3c-68e67f3ae895"
      },
      "source": [
        "s = {\"Name\": \"John Smith\", \"Age\": \"20\"}\n",
        "with open(\"Students.json\", \"w\") as write_file:\n",
        "  json.dump(s, write_file)\n",
        "#prints the contents of Student.json\n",
        "!cat Students.json"
      ],
      "execution_count": 8,
      "outputs": [
        {
          "output_type": "stream",
          "text": [
            "{\"Name\": \"John Smith\", \"Age\": \"20\"}"
          ],
          "name": "stdout"
        }
      ]
    },
    {
      "cell_type": "markdown",
      "metadata": {
        "id": "9TvgSMMOcImH",
        "colab_type": "text"
      },
      "source": [
        "## The Dumps Function\n",
        "The dumps function is used to export a dictionary to a string. Try running the code below. "
      ]
    },
    {
      "cell_type": "code",
      "metadata": {
        "id": "mxKsB-mgULK1",
        "colab_type": "code",
        "colab": {
          "base_uri": "https://localhost:8080/",
          "height": 34
        },
        "outputId": "871cbd04-2843-49ee-ab62-9fda42a4c50e"
      },
      "source": [
        "s = {\"Name\": \"John Smith\", \"Age\": \"20\"}\n",
        "students = json.dumps(s)\n",
        "print(students)\n",
        "d = "
      ],
      "execution_count": 10,
      "outputs": [
        {
          "output_type": "stream",
          "text": [
            "{\"Name\": \"John Smith\", \"Age\": \"20\"}\n"
          ],
          "name": "stdout"
        }
      ]
    },
    {
      "cell_type": "markdown",
      "metadata": {
        "colab_type": "text",
        "id": "8aB5hToqRUve"
      },
      "source": [
        "## Excercise\n",
        "Below is a Dictionary as a string. Load it and get the average age."
      ]
    },
    {
      "cell_type": "code",
      "metadata": {
        "id": "zSOYxRPGRyLL",
        "colab_type": "code",
        "colab": {}
      },
      "source": [
        "s = '{\"John Smith\": 22 , \"Bob Ross\" : 23,\"George Lopez\":24, \"Lebron James\":34,\"Anthony Davis\": 28,\"Ruth Bader Ginsburg\":87,\"Conan OBrien\":57}'"
      ],
      "execution_count": 7,
      "outputs": []
    },
    {
      "cell_type": "markdown",
      "metadata": {
        "id": "vo1nUXQlc2be",
        "colab_type": "text"
      },
      "source": [
        "### There is everything you need to know about the basics of JSON files in python! Feel free to move onto the next section which teaches you how to work with requests!\n",
        "\n",
        "# **Next Section: [Requests](https://colab.research.google.com/github/HackBinghamton/Webscraping-APIsWorkshop/blob/master/APIs/Requests.ipynb)**"
      ]
    }
  ]
}