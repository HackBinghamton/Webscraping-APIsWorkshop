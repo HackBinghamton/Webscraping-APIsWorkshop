{
 "cells": [
  {
   "cell_type": "markdown",
   "metadata": {
    "colab_type": "text",
    "id": "m1Tf4ZdAdDdI"
   },
   "source": [
    "# Working with JSON"
   ]
  },
  {
   "cell_type": "markdown",
   "metadata": {
    "colab_type": "text",
    "id": "-fUNumF9gNW9"
   },
   "source": [
    "## Overview\n",
    "\n",
    "## What You'll Learn\n",
    "In this section, you'll learn\n",
    "1. What is JSON\n",
    "2. JSON Dumps\n",
    "\n",
    "## Prerequisites\n",
    "Before starting this section, you should have an understanding of\n",
    "1. [File input and output](https://colab.research.google.com/github/HackBinghamton/PythonWorkshop/blob/master/Intermediate/FileIO.ipynb)\n",
    "\n",
    "## Introduction\n",
    "JSON is a common format for storing and exchanging data. JSON files can contain data types such as dictionaries and lists. They can also be composed of dictionaries of lists or lists of dictionaries. Additionally, there is the JSON python library, which contains methods such as load and dump, which can be helpful for both reading from and writing to files. \n",
    "\n",
    "## Structure of JSON files\n",
    "### Dictionaries\n",
    "Dictionaries are a data structure in which a certain piece of information or \"key\" is matched to values, similar to words and their matching values, similar to words and their defintions in a dictionary. Let's say that you wanted to store information about a specific student. You can use a dictionary to store certain characteristics such as their name and age. \n",
    "\n",
    "\n",
    "\n",
    "\n",
    "\n",
    "\n"
   ]
  },
  {
   "cell_type": "code",
   "execution_count": null,
   "metadata": {
    "colab": {},
    "colab_type": "code",
    "id": "i1sjEixX_Xq-"
   },
   "outputs": [],
   "source": [
    "{\"Name\": \"John Smith\", \"Age\": \"20\"}"
   ]
  },
  {
   "cell_type": "markdown",
   "metadata": {
    "colab_type": "text",
    "id": "vkN4cJxY_YMK"
   },
   "source": [
    "### Lists\n",
    "Just like any other list, lists in JSON files tend to store several different pieces of data that fall under a certain category. You can use them to store multiple pieces of data that will be helpful in your program later. Here's an example of a list containing chars, or letters, but you can use lists to store variables of pretty much any data type.\n"
   ]
  },
  {
   "cell_type": "code",
   "execution_count": null,
   "metadata": {
    "colab": {},
    "colab_type": "code",
    "id": "YXv8D7qP_5KG"
   },
   "outputs": [],
   "source": [
    "['a', 'b', 'c', 'd']"
   ]
  },
  {
   "cell_type": "markdown",
   "metadata": {
    "colab_type": "text",
    "id": "jk2bHHxe_3TB"
   },
   "source": [
    "## Lists of Dictionaries and Dictionaries of Lists\n",
    "\n",
    "Sometimes, when it comes to working with JSON files, it is useful to have a list within a dictionary and sometimes to have a dictionary within a list. \n",
    "### Lists in Dictionaries\n",
    "Let's say you wanted to use a dictionary to store specific information about a specific student. You want to store data pertaining to their name, their age, and the classes they're taking. In most cases, the student you're talking about will be taking multiple classes. This is just one instance in which it may be helpful to have a list as one of the values in your dictionary. "
   ]
  },
  {
   "cell_type": "code",
   "execution_count": null,
   "metadata": {
    "colab": {},
    "colab_type": "code",
    "id": "ifXQxJrT94eb"
   },
   "outputs": [],
   "source": [
    "{\"Name\": \"John Smith\", \"Age\": \"20\", \"Classes\":[\"CS 301\", \"CS 240\", \"MATH 330\"]}"
   ]
  },
  {
   "cell_type": "markdown",
   "metadata": {
    "colab_type": "text",
    "id": "tlWlhCDadrh3"
   },
   "source": [
    "### Dictionaries in Lists\n",
    "Let's continue with the last of example. Perhaps within the list of classes you want to have a dictionary that contains information about the professor and the number of credits you earn for taking that class. "
   ]
  },
  {
   "cell_type": "code",
   "execution_count": null,
   "metadata": {
    "colab": {},
    "colab_type": "code",
    "id": "VWPcTPB0d9QW"
   },
   "outputs": [],
   "source": [
    "{\"Name\": \"John Smith\", \"Age\": \"20\", \n",
    " \"Classes\":[{\"Course\": \"CS 301\", \"Professor\": \"George Weinschenk\", \"Credits\":\"4\"}, \n",
    "            {\"Course\": \"CS 240\", \"Professor\": \"Steven Moore\", \"Credits\":\"4\"},\n",
    "            {\"Course\": \"MATH 330\", \"Professor\": \"Steven Gindhi\", \"Credits\":\"4\"}]}"
   ]
  },
  {
   "cell_type": "markdown",
   "metadata": {
    "colab_type": "text",
    "id": "rAZUhH6h8BYc"
   },
   "source": [
    "## The JSON library\n",
    "Now that you've learned about some of the main data structures in JSON files, we are going to continue onto the JSON library, which contains a host of methods that are helpful for using and transferring data between your program and the JSON files. The first thing you need to do before trying to access any of these methods is import the JSON library in your program."
   ]
  },
  {
   "cell_type": "code",
   "execution_count": 6,
   "metadata": {
    "colab": {},
    "colab_type": "code",
    "id": "t-7gCTY_BW8Y"
   },
   "outputs": [],
   "source": [
    "import json"
   ]
  },
  {
   "cell_type": "markdown",
   "metadata": {
    "colab_type": "text",
    "id": "f7Viz3L8BZnd"
   },
   "source": [
    "Among the most json methods are the following are load, loads, dump, and dumps. While some of these methods have very similar names, it is important to understand the differences between them. \n",
    "##Load and loads\n",
    "###The Load Function\n",
    "Let's say you have a json file containing a dictionary. In python, you can use the load function to **load** something from that file into a variable you declare in another file. Let's say you have a file containing a dictionary of students named Students.json. You can say something like the following to load the information from the json file into a variable."
   ]
  },
  {
   "cell_type": "code",
   "execution_count": null,
   "metadata": {
    "colab": {},
    "colab_type": "code",
    "id": "0KKgXe_cdNBH"
   },
   "outputs": [],
   "source": [
    "#makes a Student.json file containing the dictionary below\n",
    "!echo '''{\"Name\": \"John Smith\", \"Age\": \"20\"}'''> Students.json\n",
    "\n",
    "with open(\"Students.json\", \"r\") as s:\n",
    "  students=json.load(s)\n",
    "print(students)"
   ]
  },
  {
   "cell_type": "markdown",
   "metadata": {
    "colab_type": "text",
    "id": "GIB7KJJCdMFs"
   },
   "source": [
    "###The Loads Function\n",
    "As opposed to the load functions, the loads function is used to transfer a dictionary to a variable when it is contained by a string. This means you won't need to open a file or anything like you did before."
   ]
  },
  {
   "cell_type": "code",
   "execution_count": null,
   "metadata": {
    "colab": {},
    "colab_type": "code",
    "id": "jOR_NueFStFc"
   },
   "outputs": [],
   "source": [
    "s = '{\"Name\": \"John Smith\", \"Age\": \"20\"}'\n",
    "students = json.loads(s)\n",
    "print(students['Age'])\n",
    "print(students)"
   ]
  },
  {
   "cell_type": "markdown",
   "metadata": {
    "colab_type": "text",
    "id": "lKzgyHORUZJR"
   },
   "source": [
    "## Dump and Dumps\n",
    "### The Dump Function\n",
    "On the contrary to the load and loads functions, dump and dumps are used to export a dictionary to a string or a file. Dump is used to export to a file. Let's use the same example as above, except this time with dump. "
   ]
  },
  {
   "cell_type": "code",
   "execution_count": null,
   "metadata": {
    "colab": {},
    "colab_type": "code",
    "id": "MR9rooTcdYMm"
   },
   "outputs": [],
   "source": [
    "s = {\"Name\": \"John Smith\", \"Age\": \"20\"}\n",
    "with open(\"Students.json\", \"w\") as write_file:\n",
    "  json.dump(s, write_file)\n",
    "#prints the contents of Student.json\n",
    "!cat Students.json"
   ]
  },
  {
   "cell_type": "markdown",
   "metadata": {
    "colab_type": "text",
    "id": "9TvgSMMOcImH"
   },
   "source": [
    "## The Dumps Function\n",
    "The dumps function is used to export a dictionary to a string. Try running the code below. "
   ]
  },
  {
   "cell_type": "code",
   "execution_count": null,
   "metadata": {
    "colab": {},
    "colab_type": "code",
    "id": "mxKsB-mgULK1"
   },
   "outputs": [],
   "source": [
    "s = {\"Name\": \"John Smith\", \"Age\": \"20\"}\n",
    "students = json.dumps(s)\n",
    "print(students)"
   ]
  },
  {
   "cell_type": "markdown",
   "metadata": {
    "colab_type": "text",
    "id": "8aB5hToqRUve"
   },
   "source": [
    "## Exercise\n",
    "Below is a Dictionary as a string. Load it and get the average age."
   ]
  },
  {
   "cell_type": "code",
   "execution_count": 11,
   "metadata": {
    "colab": {},
    "colab_type": "code",
    "id": "zSOYxRPGRyLL"
   },
   "outputs": [],
   "source": [
    "s = '{\"John Smith\": 22 , \"Bob Ross\" : 23,\"George Lopez\":24, \"Lebron James\":34,\"Anthony Davis\": 28,\"Ruth Bader Ginsburg\":87,\"Conan OBrien\":57}'"
   ]
  },
  {
   "cell_type": "markdown",
   "metadata": {
    "colab_type": "text",
    "id": "vo1nUXQlc2be"
   },
   "source": [
    "**There's everything you need to know about the basics of JSON files in python! Feel free to move onto the next section which teaches you how to work with requests!**\n",
    "\n",
    "# **Next Section: [Requests](https://colab.research.google.com/github/HackBinghamton/Webscraping-APIsWorkshop/blob/master/APIs/Requests.ipynb)**"
   ]
  }
 ],
 "metadata": {
  "colab": {
   "collapsed_sections": [],
   "name": "JSON.ipynb",
   "provenance": []
  },
  "kernelspec": {
   "display_name": "Python 3",
   "language": "python",
   "name": "python3"
  },
  "language_info": {
   "codemirror_mode": {
    "name": "ipython",
    "version": 3
   },
   "file_extension": ".py",
   "mimetype": "text/x-python",
   "name": "python",
   "nbconvert_exporter": "python",
   "pygments_lexer": "ipython3",
   "version": "3.8.2"
  }
 },
 "nbformat": 4,
 "nbformat_minor": 1
}
