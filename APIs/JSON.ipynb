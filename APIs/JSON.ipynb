{
  "nbformat": 4,
  "nbformat_minor": 0,
  "metadata": {
    "colab": {
      "name": "JSON.ipynb",
      "provenance": []
    },
    "kernelspec": {
      "name": "python3",
      "display_name": "Python 3"
    }
  },
  "cells": [
    {
      "cell_type": "markdown",
      "metadata": {
        "id": "m1Tf4ZdAdDdI",
        "colab_type": "text"
      },
      "source": [
        "#Working with JSON"
      ]
    },
    {
      "cell_type": "markdown",
      "metadata": {
        "id": "-fUNumF9gNW9",
        "colab_type": "text"
      },
      "source": [
        "## Overview\n",
        "\n",
        "## What You'll Learn\n",
        "In this section, you'll learn\n",
        "1. How to use dictionaries\n",
        "2. How to use lists\n",
        "3. How to use lists of dictionaries and vice versa\n",
        "\n",
        "## Prerequisites\n",
        "Before starting this section, you should have an understanding of\n",
        "1. [Basic Python (functions, loops, lists)](https://github.com/HackBinghamton/PythonWorkshop)\n",
        "\n",
        "## Introduction\n",
        "JSON is a common format for storing and exchanging data. JSON files can contain data types such as dictionaries and lists. They can also be composed of dictionaries of lists or lists of dictionaries. Additionally, there is the JSON python library, which contains methods such as load and dump, which can be helpful for both reading from and writing to files. \n",
        "\n",
        "## Structure of JSON files\n",
        "### Dictionaries\n",
        "Dictionaries are a data structure in which a certain piece of information or \"key\" is matched to values, similar to words and their matching values, similar to words and their defintions in a dictionary. Let's say that you wanted to store information about a specific student. You can use a dictionary to store certain characteristics such as their name and age. \n",
        "\n",
        "\n",
        "\n",
        "\n",
        "\n",
        "\n"
      ]
    },
    {
      "cell_type": "code",
      "metadata": {
        "id": "i1sjEixX_Xq-",
        "colab_type": "code",
        "colab": {}
      },
      "source": [
        "{\"Name\": \"John Smith\", \"Age\": \"20\"}"
      ],
      "execution_count": 0,
      "outputs": []
    },
    {
      "cell_type": "markdown",
      "metadata": {
        "id": "vkN4cJxY_YMK",
        "colab_type": "text"
      },
      "source": [
        "### Lists\n",
        "Just like any other list, lists in JSON files tend to store several different pieces of data that fall under a certain category. You can use them to store multiple pieces of data that will be helpful in your program later. Here's an example of a list containing chars, or letters, but you can use lists to store variables of pretty much any data type.\n"
      ]
    },
    {
      "cell_type": "code",
      "metadata": {
        "id": "YXv8D7qP_5KG",
        "colab_type": "code",
        "colab": {}
      },
      "source": [
        "['a', 'b', 'c', 'd']"
      ],
      "execution_count": 0,
      "outputs": []
    },
    {
      "cell_type": "markdown",
      "metadata": {
        "id": "jk2bHHxe_3TB",
        "colab_type": "text"
      },
      "source": [
        "### Lists of Dictionaries and Dictionaries of Lists\n",
        "Sometimes, when it comes to working with JSON files, it is useful to have a list within a dictionary and sometimes to have a dictionary within a list. Let's say you wanted to use a dictionary to store specific information about a specific student. You want to store data pertaining to their name, their age, and the classes they're taking. In most cases, the student you're talking about will be taking multiple classes. This is just one instance in which it may be helpful to have a list as one of the values in your dictionary. "
      ]
    },
    {
      "cell_type": "code",
      "metadata": {
        "id": "ifXQxJrT94eb",
        "colab_type": "code",
        "colab": {}
      },
      "source": [
        "{\"Name\": \"John Smith\", \"Age\": \"20\", \"Classes\":[\"CS 301\", \"CS 240\", \"MATH 330\"]}"
      ],
      "execution_count": 0,
      "outputs": []
    },
    {
      "cell_type": "markdown",
      "metadata": {
        "id": "rAZUhH6h8BYc",
        "colab_type": "text"
      },
      "source": [
        "## The JSON library\n",
        "Now that you've learned about some of the main data structures in JSON files, we are going to continue onto the JSON library, which contains a host of methods that are helpful for using and transferring data between your program and the JSON files. The first thing you need to do before trying to access any of these methods is import the JSON library in your program."
      ]
    },
    {
      "cell_type": "code",
      "metadata": {
        "id": "t-7gCTY_BW8Y",
        "colab_type": "code",
        "colab": {}
      },
      "source": [
        "import json"
      ],
      "execution_count": 0,
      "outputs": []
    },
    {
      "cell_type": "markdown",
      "metadata": {
        "id": "f7Viz3L8BZnd",
        "colab_type": "text"
      },
      "source": [
        "Among the most json methods are the following are load, loads, dump, and dumps. While some of these methods have very similar names, it is important to understand the differences between them. \n",
        "##Load and loads\n",
        "###The Load Function\n",
        "Let's say you have a json file containing a dictionary. In python, you can use the load function to **load** something from that file into a variable you declare in another file. Let's say you have a file containing a dictionary of students named Students.json. You can say something like the following to load the information from the json file into a variable.\n",
        "\n",
        "**import json<br/>\n",
        "with open(Students.json) as s:<br/>\n",
        "&nbsp; &nbsp; &nbsp; &nbsp; students=json.load(students)**\n",
        "\n",
        "\n",
        "Of course you would need a file named Student.json with a dictionary in it for this to work on your own device.\n",
        "\n",
        "###The Loads Function\n",
        "As opposed to the load functions, the loads function is used to transfer a dictionary to a variable when it is contained by a string. This means you won't need to open a file or anything like you did before.\n",
        "\n"
      ]
    },
    {
      "cell_type": "code",
      "metadata": {
        "id": "jOR_NueFStFc",
        "colab_type": "code",
        "colab": {}
      },
      "source": [
        "s = '{\"Name\": \"John Smith\", \"Age\": \"20\"}'\n",
        "students = json.loads(s)\n",
        "print(students)\n"
      ],
      "execution_count": 0,
      "outputs": []
    },
    {
      "cell_type": "markdown",
      "metadata": {
        "id": "lKzgyHORUZJR",
        "colab_type": "text"
      },
      "source": [
        "## Dump and Dumps\n",
        "### The Dump Function\n",
        "On the contrary to the load and loads functions, dump and dumps are used to export a dictionary to a string or a file. Dump is used to export to a file. Let's use the same example as above, except this time with dump. \n",
        "\n",
        "**s = {\"Name\": \"John Smith\", \"Age\": \"20\"}</br>\n",
        "with open(\"Students.json\", \"w\") as write_file: </br>\n",
        "&nbsp; &nbsp; &nbsp; &nbsp; json.dump(s, write_file)**\n",
        "\n",
        "This will write the dictionary to the JSON file named Student.json\n",
        "\n"
      ]
    },
    {
      "cell_type": "markdown",
      "metadata": {
        "id": "9TvgSMMOcImH",
        "colab_type": "text"
      },
      "source": [
        "## The Dumps Function\n",
        "The dumps function is used to export a dictionary to a string. Try running the code below. "
      ]
    },
    {
      "cell_type": "code",
      "metadata": {
        "id": "mxKsB-mgULK1",
        "colab_type": "code",
        "colab": {}
      },
      "source": [
        "s = {\"Name\": \"John Smith\", \"Age\": \"20\"}\n",
        "students = json.dumps(s)\n",
        "print(students)"
      ],
      "execution_count": 0,
      "outputs": []
    },
    {
      "cell_type": "markdown",
      "metadata": {
        "id": "vo1nUXQlc2be",
        "colab_type": "text"
      },
      "source": [
        "### There is everything you need to know about the basics of JSON files in python! Feel free to move onto the next section which teaches you how to work with requests!\n",
        "\n",
        "# **Next Section: [Requests](https://colab.research.google.com/github/HackBinghamton/Webscraping-APIsWorkshop/blob/master/APIs/Requests.ipynb)**"
      ]
    }
  ]
}