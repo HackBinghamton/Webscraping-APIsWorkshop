{
  "nbformat": 4,
  "nbformat_minor": 0,
  "metadata": {
    "colab": {
      "name": "APIs.ipynb",
      "provenance": [],
      "collapsed_sections": []
    },
    "kernelspec": {
      "name": "python3",
      "display_name": "Python 3"
    }
  },
  "cells": [
    {
      "cell_type": "markdown",
      "metadata": {
        "id": "LIXJnp8oG1SU",
        "colab_type": "text"
      },
      "source": [
        "# Getting Started with APIs\n",
        "\n",
        "## Overview\n",
        "\n",
        "### What You'll Learn\n",
        "In this section you'll learn:\n",
        "1. How to use the Requests library with public APIs\n",
        "2. How to parse JSON data returned by APIs\n",
        "3. Differences between NoAuth and Auth APIs\n",
        "\n",
        "### Prerequisites\n",
        "Before starting this section, you should have an understanding of:\n",
        "1. [JSON](https://colab.research.google.com/github/HackBinghamton/Webscraping-APIsWorkshop/blob/master/APIs/JSON.ipynb)\n",
        "2. [Requests](https://colab.research.google.com/github/HackBinghamton/Webscraping-APIsWorkshop/blob/master/APIs/Requests.ipynb)\n",
        "\n",
        "### Introduction\n",
        "\n",
        "API stands for **Application Programming Interface**. APIs allow users and developers to interact with a company's services through code, making it easier for different platforms and applications to communicate with each other. \n",
        "\n",
        "APIs are also fantastic tools to use for personal projects, as well as Hackathon projects. For example, in our previous Machine Learning workshops, we used APIs to gather the data needed to train and test our models. \n",
        "\n",
        "APIs can range in complexity from simple data retrieval to full control over an application's features. For this portion of the workshop, we're going to do an in-depth example of a simple data retrieval API, then cover the basics of more advanced APIs. \n",
        "\n",
        "## Choosing an API\n",
        "\n",
        "Before we can start using APIs, we have to research and find the API that we need. A great place to start is [this](https://github.com/public-apis/public-apis) Github repository, which contains links to hundreds of publicly usable APIs sorted by category. *(Fun Fact: The public APIs repo has its own public API! If you ever need to programmatically get a list of free APIs, look no further.)*\n",
        "\n",
        "On that page, you'll notice that each API has 3 different fields attached: Auth, HTTPS, and CORS. The Auth field will tell you whether or not you need to create an authorized account before using the API. If you see *No* under the Auth field of one of these APIs, then it's generally free to use by anyone, for anything. However, if an API requires an APIKey or OAuth then it will usually only be free if you are using it for a project that you won't profit from. The HTTPS field will tell you whether or not the API uses HTTPS, which is more secure than regular HTTP. Finally, the CORS field can generally be ignored as it only indicates whether the API uses a certain browser header.\n",
        "\n",
        "Since everyone likes space (and Elon Musk) we're going to use the SpaceX API to get started. In the public APIs repo, you'll notice that the SpaceX API does not require Authorization, so this is a free to use API. If you'd like to read more about the SpaceX API, you can find its Github repo [here](https://github.com/r-spacex/SpaceX-API). Let's dive in!\n",
        "\n",
        "## SpaceX API\n",
        "\n",
        "To get started, we need to import the requests library and specify our API URL. The URL that we use will change depending on what kind of information we want from the API. For now, we're going to use `https://api.spacexdata.com/v3/launches`\n",
        "to get information on all of SpaceX's different rocket launches. Check out the documentation linked above if you want to learn about some of the other things you can do with the SpaceX API, including tracking the Rocketman Tesla Roadster's location in orbit!\n"
      ]
    },
    {
      "cell_type": "code",
      "metadata": {
        "id": "DG6Ma5C4G0Lj",
        "colab_type": "code",
        "colab": {}
      },
      "source": [
        "import requests\n",
        "url = \"https://api.spacexdata.com/v3/launches\""
      ],
      "execution_count": 0,
      "outputs": []
    },
    {
      "cell_type": "markdown",
      "metadata": {
        "id": "prPFg9kJgM8X",
        "colab_type": "text"
      },
      "source": [
        "Now that we've got our API URL, we can use requests to get information from that API."
      ]
    },
    {
      "cell_type": "code",
      "metadata": {
        "id": "CmiovQwmgaNM",
        "colab_type": "code",
        "colab": {}
      },
      "source": [
        "rockets = requests.get(url)\n",
        "print(rockets)"
      ],
      "execution_count": 0,
      "outputs": []
    },
    {
      "cell_type": "markdown",
      "metadata": {
        "id": "9yOr0rY6gqQV",
        "colab_type": "text"
      },
      "source": [
        "So requests.get has given us an HTTP response that contains the information we want, but it's not in a usable format right now. You can see that if we try printing out rockets here, all we get is `<Response [200]>`. The great part about the requests library is that it has a built in function for converting this HTTP response into JSON format!"
      ]
    },
    {
      "cell_type": "code",
      "metadata": {
        "id": "4NEWEl4ZhiRE",
        "colab_type": "code",
        "colab": {}
      },
      "source": [
        "jsonrockets = rockets.json()\n",
        "print(jsonrockets)"
      ],
      "execution_count": 0,
      "outputs": []
    },
    {
      "cell_type": "markdown",
      "metadata": {
        "id": "kiqlACxsiHdZ",
        "colab_type": "text"
      },
      "source": [
        "Now we've taken our HTTP response and turned it into an extremely large JSON object that we can start using. \n",
        "\n",
        "If you're wondering how those 4 lines of code can get you that much information, try visiting the URL we used in your browser: https://api.spacexdata.com/v3/launches. You should notice that the JSON object we printed out has the exact same information displayed on that webpage. Since this API is pretty simple, all it does it return a JSON object full of information through a standard HTTP response. The only difference between calling `requests.get()` on a URL and visiting it in a browser is that your browser will display the contents of the HTTP response, while `requests.get()` will return the response as a value.\n",
        "\n",
        "Now we can start getting the data we want from this JSON object. Lets try to get a list of all rockets that SpaceX has successfully launched. Since we can see that this JSON Object starts as a list (the first character is a '[' ), we can first start by looping through this list."
      ]
    },
    {
      "cell_type": "code",
      "metadata": {
        "id": "2qValeranvcT",
        "colab_type": "code",
        "colab": {}
      },
      "source": [
        "for launch in jsonrockets:\n",
        "  print(launch)"
      ],
      "execution_count": 0,
      "outputs": []
    },
    {
      "cell_type": "markdown",
      "metadata": {
        "id": "b6Ymk4mFn7kw",
        "colab_type": "text"
      },
      "source": [
        "As you can see, it's a lot easier to tell how this JSON object is formatted now. Each item in the outer list is a dictionary of information on a single launch attempt. This information includes the mission name, launch year, and a **ton** more. It can take a lot of reading to see all of the different fields that these dictionaries contain, but for right now let's check the field called `launch_success`."
      ]
    },
    {
      "cell_type": "code",
      "metadata": {
        "id": "hF-S3qT9ouj8",
        "colab_type": "code",
        "colab": {}
      },
      "source": [
        "for rocket in jsonrockets:\n",
        "  print(rocket[\"launch_success\"])"
      ],
      "execution_count": 0,
      "outputs": []
    },
    {
      "cell_type": "markdown",
      "metadata": {
        "id": "559zjJBEpw97",
        "colab_type": "text"
      },
      "source": [
        "Now let's do something useful with this information: every time we encounter a launch that landed successfully, we'll print out a link to that launch's wikipedia article. Each launch's wikipedia page is found in the \"links\" field, which is also a dictionary. Nested JSON logic like this can start to get confusing, especially when there are lots of fields per object like in this example. It's important to think of each level of lists or dictionaries as a layer of data. Here we are first going into the launch layer, then into the links layer, and then into the final wikipedia layer. "
      ]
    },
    {
      "cell_type": "code",
      "metadata": {
        "id": "hnqvR-RSqT2_",
        "colab_type": "code",
        "colab": {}
      },
      "source": [
        "for rocket in jsonrockets:\n",
        "  if(rocket[\"launch_success\"] == True):\n",
        "    print(rocket[\"links\"][\"wikipedia\"])"
      ],
      "execution_count": 0,
      "outputs": []
    },
    {
      "cell_type": "markdown",
      "metadata": {
        "id": "0tAYELQ8rxUN",
        "colab_type": "text"
      },
      "source": [
        "We've now successfully retrieved the wikipedia link of every successful SpaceX rocket launch, and in only 7 lines of code total! APIs like this are incredibly powerful because of the amount of information you can gather with only a little bit of work.\n",
        "\n",
        "You might already see how using an API can benefit personal/hackathon projects. As just a few examples: use a pet adoption API to pair people with potential pets, provide product warnings for users with health problems via the FDA's API, or use a library API to provide book recommendations based on movie/tv preferences.\n",
        "\n",
        "There's even the appropriately named [kanye.rest](https://kanye.rest), an API for Kanye West quotes. \n",
        "\n",
        "### SpaceX Excercise\n",
        "\n",
        "Try printing out the rocket name and rocket type for every SpaceX launch. *(Hint: You're going to need to go into the \"rocket\" layer of the JSON object to get this information)*\n"
      ]
    },
    {
      "cell_type": "code",
      "metadata": {
        "id": "prr0RIllBFOK",
        "colab_type": "code",
        "colab": {}
      },
      "source": [
        "import requests\n",
        "url = \"https://api.spacexdata.com/v3/launches\"\n",
        "rockets = requests.get(url)\n",
        "jsonrockets = rockets.json()\n",
        "\n",
        "#YOUR CODE HERE\n"
      ],
      "execution_count": 0,
      "outputs": []
    },
    {
      "cell_type": "markdown",
      "metadata": {
        "id": "866GqsrqEusl",
        "colab_type": "text"
      },
      "source": [
        "## MetaWeather API\n",
        "\n",
        "For another quick example of a free and easy-to-use API, let's look at the MetaWeather API. Its documentation can be found [here](https://www.metaweather.com/api/).\n",
        "\n",
        "First we're going to get some general information about a city that we want weather for, in this case we'll start with London."
      ]
    },
    {
      "cell_type": "code",
      "metadata": {
        "id": "46K1eJBHFAea",
        "colab_type": "code",
        "colab": {}
      },
      "source": [
        "import requests\n",
        "url = \"https://www.metaweather.com/api/location/search/?query=london\"\n",
        "london = requests.get(url)\n",
        "json_london = london.json()\n",
        "print(json_london)"
      ],
      "execution_count": 0,
      "outputs": []
    },
    {
      "cell_type": "markdown",
      "metadata": {
        "id": "KYIFUdC9FoCP",
        "colab_type": "text"
      },
      "source": [
        "Here, we provided a query term (London) to the MetaWeather API's location search feature. This provides us with information about the city we searched for. Now that we have this city's 'where on earth ID' number (woeid: 44418) we can get the current weather in that location by making another API call."
      ]
    },
    {
      "cell_type": "code",
      "metadata": {
        "id": "CWA-A2pzF9QD",
        "colab_type": "code",
        "colab": {}
      },
      "source": [
        "weather_url = \"https://www.metaweather.com/api/location/44418\"\n",
        "weather = requests.get(weather_url)\n",
        "json_weather = weather.json()\n",
        "print(json_weather)"
      ],
      "execution_count": 0,
      "outputs": []
    },
    {
      "cell_type": "markdown",
      "metadata": {
        "id": "vN9c8_TDI018",
        "colab_type": "text"
      },
      "source": [
        "Now we've used the 'where on earth ID' from the previous API call to retrieve the current and forecasted weather information for London. To improve this code and add flexibility, let's turn it into a function that can accept different locations as input. Try changing the string in the function call from \"london\" to some other cities and see the results! \n",
        "\n",
        "**Note:** Not every city name will be accepted by this function. If MetaWeather can't find a city that matches your search term, you won't receive an output. Additionally, MetaWeather's search term can return multiple cities, so if your search term is too vague you may get weather for a different city (searching \"san\" might give San Diego or San Francisco)"
      ]
    },
    {
      "cell_type": "code",
      "metadata": {
        "id": "AJ07L0YLJHjF",
        "colab_type": "code",
        "colab": {}
      },
      "source": [
        "import requests\n",
        "def get_weather(location):\n",
        "  if(not location):\n",
        "    return\n",
        "  location_url = \"https://www.metaweather.com/api/location/search/?query=\" + location\n",
        "  location = requests.get(location_url)\n",
        "  json_location = location.json()\n",
        "  \n",
        "  if(len(json_location) > 0):\n",
        "    weather_url = \"https://www.metaweather.com/api/location/\" + str(json_location[0]['woeid'])\n",
        "    weather = requests.get(weather_url)\n",
        "    json_weather = weather.json()\n",
        "    print(json_weather)\n",
        "\n",
        "get_weather(\"san\")\n"
      ],
      "execution_count": 0,
      "outputs": []
    },
    {
      "cell_type": "markdown",
      "metadata": {
        "id": "wl5dzIaoKgdU",
        "colab_type": "text"
      },
      "source": [
        "This improved function allows the user to pass in a location string. First, we check to make sure that the user's input string isn't empty. If it isn't, we use this string to get a JSON object with information on that location (`json_location`). We then check if the length of `json_location` is at least 1, meaning that at least 1 city was found. If this is the case, we use the \"woeid\" from that JSON object (`str(json_location[0]['woeid'])`) to make another API call which gets the weather (`json_weather`) for the given location. \n",
        "\n",
        "Making multiple API calls in this way allows us to take a single string and turn it into an entire weather forecast in seconds!"
      ]
    },
    {
      "cell_type": "markdown",
      "metadata": {
        "id": "pqWtus2HBHAv",
        "colab_type": "text"
      },
      "source": [
        "\n",
        "## More Powerful APIs\n",
        "\n",
        "So far, we've only really talked about APIs that are used to retrieve general information that was gathered and put together by some organization. There are some APIs that can do much more, and actually allow you to interact with different platforms in powerful ways. \n",
        "\n",
        "Let's look at the Youtube API as an example. It's documentation can be found [here](https://developers.google.com/youtube/v3/quickstart/python). The Youtube API allows developers to retrieve information about a given Youtube account. Using this API, you could design an application that allows you to essentially log into your Youtube account and see your subscriptions, liked videos, and view history. \n",
        "\n",
        "Another great example of a powerful API is the Google Calendar API, which can be found [here](https://developers.google.com/calendar/). Using this API, you can use more advanced requests to create new events in a user's calendar.\n",
        "\n",
        "It's important to keep in mind that these APIs almost always require some form of authorization since they directly interact with a live service. This also means that these APIs may restrict how you use them. If you are using a free-tier of these services, you may only be able to make a certain number of requests per day."
      ]
    }
  ]
}