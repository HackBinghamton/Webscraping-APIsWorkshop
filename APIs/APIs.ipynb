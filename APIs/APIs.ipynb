{
 "cells": [
  {
   "cell_type": "markdown",
   "metadata": {
    "colab_type": "text",
    "id": "LIXJnp8oG1SU"
   },
   "source": [
    "# **Getting Started with APIs**\n",
    "\n",
    "## **Overview**"
   ]
  },
  {
   "cell_type": "markdown",
   "metadata": {
    "colab_type": "text",
    "id": "d23iNDqpids7"
   },
   "source": [
    "### **What You'll Learn**\n",
    "In this section you'll learn:\n",
    "1. How to use the Requests library with public APIs\n",
    "2. How to parse JSON data returned by APIs"
   ]
  },
  {
   "cell_type": "markdown",
   "metadata": {
    "colab_type": "text",
    "id": "U6GLQ3txid3f"
   },
   "source": [
    "### **Prerequisites**\n",
    "Before starting this section, you should have an understanding of:\n",
    "1. [JSON](https://colab.research.google.com/github/HackBinghamton/Webscraping-APIsWorkshop/blob/master/APIs/JSON.ipynb)\n",
    "2. [Requests](https://colab.research.google.com/github/HackBinghamton/Webscraping-APIsWorkshop/blob/master/APIs/Requests.ipynb)"
   ]
  },
  {
   "cell_type": "markdown",
   "metadata": {
    "colab_type": "text",
    "id": "gI1Xvu78id-m"
   },
   "source": [
    "### **Introduction**\n",
    "API stands for **Application Programming Interface**. APIs allow users and developers to interact with a company's services through code, making it easier for different platforms and applications to communicate with each other. \n",
    "\n",
    "For this portion of the workshop we're going to do an in-depth example of a simple data retrieval API, then cover the basics of more advanced APIs. \n"
   ]
  },
  {
   "cell_type": "markdown",
   "metadata": {
    "colab_type": "text",
    "id": "WbuJFlvLieDZ"
   },
   "source": [
    "### **Choosing an API**\n",
    "Before we can start using APIs, we have to research and find the API that we need. A great place to start is [this](https://github.com/public-apis/public-apis) Github repository, which contains links to hundreds of publicly usable APIs sorted by category.\n",
    "\n",
    "On that page, you'll notice that each API has 3 different fields attached: **Auth**, **HTTPS**, and **CORS**. The Auth field will tell you whether or not you need to create an authorized account before using the API. If you see *No* under the Auth field of one of these APIs, then it's generally free to use by anyone, for anything. However, if an API requires an APIKey or OAuth then it will usually only be free if you are using it for a project that you won't profit from. The HTTPS and CORS fields can generally be ignored.\n"
   ]
  },
  {
   "cell_type": "markdown",
   "metadata": {
    "colab_type": "text",
    "id": "CqJXtr65h8Jj"
   },
   "source": [
    "# **SpaceX API**\n",
    "\n",
    "\n",
    "---\n",
    "\n",
    "\n",
    "Since everyone likes space (and Elon Musk) we're going to use the SpaceX API to get started. In the public APIs repo, you'll notice that the SpaceX API does not require Authorization, so this is a free to use API. If you'd like to read more about the SpaceX API, you can find its Github repo [here](https://github.com/r-spacex/SpaceX-API). Let's dive in!"
   ]
  },
  {
   "cell_type": "markdown",
   "metadata": {
    "colab_type": "text",
    "id": "RXTXGAx0i1mB"
   },
   "source": [
    "#### **Setting Up**\n",
    "To get started, we need to import the requests library and specify our API URL. The URL that we use will change depending on what kind of information we want from the API. For now, we're going to use `https://api.spacexdata.com/v3/launches`\n",
    "to get information on all of SpaceX's different rocket launches. Check out the documentation linked above if you want to learn about some of the other things you can do with the SpaceX API, including tracking the Rocketman Tesla Roadster's location in orbit!"
   ]
  },
  {
   "cell_type": "code",
   "execution_count": null,
   "metadata": {
    "colab": {},
    "colab_type": "code",
    "id": "DG6Ma5C4G0Lj"
   },
   "outputs": [],
   "source": [
    "import requests\n",
    "url = \"https://api.spacexdata.com/v3/launches\""
   ]
  },
  {
   "cell_type": "markdown",
   "metadata": {
    "colab_type": "text",
    "id": "CwXNEGmvjAgs"
   },
   "source": [
    "Now that we've got our API URL, we can use requests to get information from that API."
   ]
  },
  {
   "cell_type": "markdown",
   "metadata": {
    "colab_type": "text",
    "id": "prPFg9kJgM8X"
   },
   "source": [
    "#### **Making the Request**"
   ]
  },
  {
   "cell_type": "code",
   "execution_count": null,
   "metadata": {
    "colab": {},
    "colab_type": "code",
    "id": "CmiovQwmgaNM"
   },
   "outputs": [],
   "source": [
    "rockets = requests.get(url)\n",
    "print(rockets)"
   ]
  },
  {
   "cell_type": "markdown",
   "metadata": {
    "colab_type": "text",
    "id": "9yOr0rY6gqQV"
   },
   "source": [
    "So `requests.get()` has given us an **HTTP response** that contains the information we want, but it's not in a usable format right now. You can see that if we try printing out `rockets` here, all we get is `<Response [200]>`. The great part about the requests library is that it has a built in function called `.json()` for converting this HTTP response into JSON format."
   ]
  },
  {
   "cell_type": "code",
   "execution_count": null,
   "metadata": {
    "colab": {},
    "colab_type": "code",
    "id": "4NEWEl4ZhiRE"
   },
   "outputs": [],
   "source": [
    "jsonrockets = rockets.json()\n",
    "print(jsonrockets)"
   ]
  },
  {
   "cell_type": "markdown",
   "metadata": {
    "colab_type": "text",
    "id": "kiqlACxsiHdZ"
   },
   "source": [
    "Now we've taken our HTTP response and turned it into an *extremely* large **JSON object** that we can start using. \n",
    "\n",
    "If you're wondering how those 4 lines of code can get you that much information, try visiting the URL we used in your browser: https://api.spacexdata.com/v3/launches. You should notice that the JSON object we printed out has the exact same information displayed on that webpage. \n",
    "\n",
    "Since this API is pretty simple, all it does it return a JSON object full of information through a standard HTTP response. The only difference between calling `requests.get()` on a URL and visiting it in a browser is that your browser will display the contents of the HTTP response, while `requests.get()` will return the response as a value."
   ]
  },
  {
   "cell_type": "markdown",
   "metadata": {
    "colab_type": "text",
    "id": "6WZ4by0GjJ2d"
   },
   "source": [
    "#### **Filtering Through the Data**\n",
    "\n",
    "Now we can start getting the data we want from this JSON object. Lets try to get **a list of all rockets that SpaceX has successfully launched**. Since we can see that this JSON Object starts as a list (the first character is a '[' ), we can first start by looping through this list."
   ]
  },
  {
   "cell_type": "code",
   "execution_count": null,
   "metadata": {
    "colab": {},
    "colab_type": "code",
    "id": "2qValeranvcT"
   },
   "outputs": [],
   "source": [
    "for launch in jsonrockets:\n",
    "  print(launch)"
   ]
  },
  {
   "cell_type": "markdown",
   "metadata": {
    "colab_type": "text",
    "id": "b6Ymk4mFn7kw"
   },
   "source": [
    "As you can see, it's a lot easier to tell how this JSON object is formatted now. **Each item in the outer list is a dictionary** of information on a single launch attempt. This information includes the mission name, launch year, and so much more. It can take a lot of reading to see all of the different fields that these dictionaries contain, but for right now let's check the field called `launch_success`."
   ]
  },
  {
   "cell_type": "code",
   "execution_count": null,
   "metadata": {
    "colab": {},
    "colab_type": "code",
    "id": "prr0RIllBFOK"
   },
   "outputs": [],
   "source": [
    "import requests\n",
    "url = \"https://api.spacexdata.com/v3/launches\"\n",
    "rockets = requests.get(url)\n",
    "jsonrockets = rockets.json()\n",
    "\n",
    "for launch in jsonrockets:\n",
    "  print(launch[\"launch_success\"])"
   ]
  },
  {
   "cell_type": "markdown",
   "metadata": {
    "colab_type": "text",
    "id": "559zjJBEpw97"
   },
   "source": [
    "Now let's do something useful with this information: **every time we encounter a launch that was successful, we'll print out a link to that launch's Wikipedia article**. Each launch's Wikipedia page is found in the \"links\" field, which is also a dictionary. \n",
    "\n",
    "Nested JSON logic like this can start to get confusing, especially when there are lots of fields per object like in this example. **It can be helpful to think of the layers of the JSON object as folders on a computer**, since each layer can contain both information and more layers. In this example, we first open the outermost **launch** folder. Inside that folder there are many other folders and pieces of information, but we want to open the **links** folder. Again there are many folders and items inside the links folder, but we want to open the **wikipedia** folder. Inside that folder is where all of the information that we want is, so we can stop going into deeper folders.\n",
    "\n"
   ]
  },
  {
   "cell_type": "code",
   "execution_count": null,
   "metadata": {
    "colab": {},
    "colab_type": "code",
    "id": "hnqvR-RSqT2_"
   },
   "outputs": [],
   "source": [
    "for launch in jsonrockets:\n",
    "  if(launch[\"launch_success\"] == True):\n",
    "    print(launch[\"links\"][\"wikipedia\"])"
   ]
  },
  {
   "cell_type": "markdown",
   "metadata": {
    "colab_type": "text",
    "id": "0tAYELQ8rxUN"
   },
   "source": [
    "**We've now successfully retrieved the Wikipedia link of every successful SpaceX rocket launch, and in only 7 lines of code total!** APIs like this are incredibly powerful because of the amount of information you can gather with only a little bit of work.\n",
    "\n",
    "You might already see how using an API can benefit **personal or hackathon projects**. As just a few examples: use a pet adoption API to pair people with potential pets, provide product warnings for users with health problems via the FDA's API, or use a library API to provide book recommendations based on movie/tv preferences.\n",
    "\n",
    "There's even the appropriately named [kanye.rest](https://kanye.rest), an API for Kanye West quotes. \n"
   ]
  },
  {
   "cell_type": "markdown",
   "metadata": {
    "colab_type": "text",
    "id": "WgIwa2FSjXej"
   },
   "source": [
    "#### **SpaceX Excercise**\n",
    "\n",
    "Try printing out the rocket name and rocket type for every SpaceX launch. *(Hint: You're going to need to go into the \"rocket\" layer of the JSON object to get this information)*"
   ]
  },
  {
   "cell_type": "markdown",
   "metadata": {
    "colab_type": "text",
    "id": "2srnuLUkoBGn"
   },
   "source": [
    "Make a program that lets the user input a year, then output the mission name for every SpaceX rocket that launched that year"
   ]
  },
  {
   "cell_type": "code",
   "execution_count": null,
   "metadata": {
    "colab": {},
    "colab_type": "code",
    "id": "xfpnFMZSoR0P"
   },
   "outputs": [],
   "source": [
    "import requests\n",
    "url = \"https://api.spacexdata.com/v3/launches\"\n",
    "rockets = requests.get(url)\n",
    "jsonrockets = rockets.json()\n",
    "\n",
    "#YOUR CODE HERE\n"
   ]
  },
  {
   "cell_type": "markdown",
   "metadata": {
    "colab_type": "text",
    "id": "Zxpr0Vn2v0ux"
   },
   "source": [
    "## **SpaceX Project**\n",
    "\n",
    "Now that we've done a few small things with this API, let's try something a bit bigger! We're going to make a project that lets users input a year, then prints out the Youtube video links for every SpaceX Launch in that year.\n",
    "\n"
   ]
  },
  {
   "cell_type": "markdown",
   "metadata": {
    "colab_type": "text",
    "id": "bmNQAWaPwwQr"
   },
   "source": [
    "#### **1. Making the request**\n",
    "Just like with the previous example and excercise, you'll first need to set your URL and make the request. Then turn the response into a JSON object."
   ]
  },
  {
   "cell_type": "code",
   "execution_count": null,
   "metadata": {
    "colab": {},
    "colab_type": "code",
    "id": "hZLTXv2TxW6v"
   },
   "outputs": [],
   "source": [
    "# YOUR CODE HERE"
   ]
  },
  {
   "cell_type": "markdown",
   "metadata": {
    "colab_type": "text",
    "id": "LHTZ9vu2xYEW"
   },
   "source": [
    "#### **2. Taking Input and Filtering By Year**\n",
    "Now that you've got a JSON object, we need to get an input year from the user. Then, we need to loop over all launches in the list and isolate the launches that happened in that year. \n",
    "\n",
    "*Hint: The `launch_year` field of each launch will help you out*"
   ]
  },
  {
   "cell_type": "code",
   "execution_count": null,
   "metadata": {
    "colab": {},
    "colab_type": "code",
    "id": "vflASXZ_3mVA"
   },
   "outputs": [],
   "source": [
    "# YOUR CODE HERE"
   ]
  },
  {
   "cell_type": "markdown",
   "metadata": {
    "colab_type": "text",
    "id": "Uhjo-yXH3n1X"
   },
   "source": [
    "#### **3. Printing out Youtube Links**\n",
    "With the filtered list of launches, you can now work on printing out the Youtube links. Use the [API Link](https://api.spacexdata.com/v3/launches) provided earlier to search through the data and find the `video_link` field, then determine which layers you need to access in order to reach it.\n",
    "\n",
    "*Hint: Look back at the code for printing Wikipedia links from earlier in the SpaceX section*"
   ]
  },
  {
   "cell_type": "code",
   "execution_count": null,
   "metadata": {
    "colab": {},
    "colab_type": "code",
    "id": "Goi-PdUx4u8j"
   },
   "outputs": [],
   "source": [
    "# YOUR CODE HERE"
   ]
  },
  {
   "cell_type": "markdown",
   "metadata": {
    "colab_type": "text",
    "id": "866GqsrqEusl"
   },
   "source": [
    "# **MetaWeather API**\n",
    "\n",
    "\n",
    "---\n",
    "\n",
    "\n",
    "\n",
    "For another quick example of a free and easy-to-use API, let's look at the MetaWeather API. Its documentation can be found [here](https://www.metaweather.com/api/)."
   ]
  },
  {
   "cell_type": "markdown",
   "metadata": {
    "colab_type": "text",
    "id": "S60Tt6n2pvmE"
   },
   "source": [
    "#### **Gathering Information**\n",
    "\n",
    "First we're going to get some general information about a city that we want weather for, in this case we'll start with London."
   ]
  },
  {
   "cell_type": "code",
   "execution_count": null,
   "metadata": {
    "colab": {},
    "colab_type": "code",
    "id": "46K1eJBHFAea"
   },
   "outputs": [],
   "source": [
    "import requests\n",
    "url = \"https://www.metaweather.com/api/location/search/?query=london\"\n",
    "london = requests.get(url)\n",
    "json_london = london.json()\n",
    "print(json_london)"
   ]
  },
  {
   "cell_type": "markdown",
   "metadata": {
    "colab_type": "text",
    "id": "KYIFUdC9FoCP"
   },
   "source": [
    "Here, we provided a query term (London) to the MetaWeather API's location search feature. This provides us with information about the city we searched for. \n",
    "\n",
    "**You probably noticed that we didn't get any weather from that request, so what gives?** Well, Metaweather's API works in a unique way. In order to get weather for a location, you have to know that location's **'Where On Earth ID Number' (WOEID)**. Looking at the response we got to our last request, Metaweather gave us the WOEID for London (44418). Now that we have the WOEID, we can make a **second API call** to get the current weather in London."
   ]
  },
  {
   "cell_type": "markdown",
   "metadata": {
    "colab_type": "text",
    "id": "w0NRWKXSrZo1"
   },
   "source": [
    "#### **Putting the Information to Use**\n",
    "\n",
    "In order to make our second API request and get the weather for London, we have to use a different URL. The URL for our first call was for searching for information about a location, but now we need to search for weather with a WOEID. Both of these URLs were obtained from the documentation linked at the beginning of this section."
   ]
  },
  {
   "cell_type": "code",
   "execution_count": null,
   "metadata": {
    "colab": {},
    "colab_type": "code",
    "id": "CWA-A2pzF9QD"
   },
   "outputs": [],
   "source": [
    "weather_url = \"https://www.metaweather.com/api/location/44418\"\n",
    "weather = requests.get(weather_url)\n",
    "json_weather = weather.json()\n",
    "print(json_weather)"
   ]
  },
  {
   "cell_type": "markdown",
   "metadata": {
    "colab_type": "text",
    "id": "vN9c8_TDI018"
   },
   "source": [
    "Now we've used the WOEID from the previous API call to retrieve the current and forecasted weather information for London. Just like before, this information was provided in a fairly large JSON object. Scrolling through, you should notice that the general structure is **an outermost dictionary which contains a list called `consolidated_weather`. This list contains multiple dictionaries, each of which represents a day and its weather forecast.**"
   ]
  },
  {
   "cell_type": "markdown",
   "metadata": {
    "colab_type": "text",
    "id": "FGnw26irvKSn"
   },
   "source": [
    "#### **Making it Dynamic**\n",
    "You probably noticed that it's not exactly user friendly to have to type your search into the end of a URL to get the weather. So to improve this code and add flexibility, **let's turn it into a function that can accept different locations as input**.\n",
    "\n",
    "**Note:** Not every city name will be accepted by this function. If MetaWeather can't find a city that matches your search term, you won't receive an output. Additionally, MetaWeather's search term can return multiple cities, so if your search term is too vague you may get weather for a different city (searching \"san\" might give San Diego or San Francisco)"
   ]
  },
  {
   "cell_type": "code",
   "execution_count": null,
   "metadata": {
    "colab": {},
    "colab_type": "code",
    "id": "AJ07L0YLJHjF"
   },
   "outputs": [],
   "source": [
    "import requests\n",
    "def get_weather(location):\n",
    "  if(not location):\n",
    "    return\n",
    "  location_url = \"https://www.metaweather.com/api/location/search/?query=\" + location\n",
    "  location = requests.get(location_url)\n",
    "  json_location = location.json()\n",
    "  \n",
    "  if(len(json_location) > 0):\n",
    "    weather_url = \"https://www.metaweather.com/api/location/\" + str(json_location[0]['woeid'])\n",
    "    weather = requests.get(weather_url)\n",
    "    json_weather = weather.json()\n",
    "    print(json_weather)\n",
    "\n",
    "get_weather(input(\"Enter a location: \"))\n"
   ]
  },
  {
   "cell_type": "markdown",
   "metadata": {
    "colab_type": "text",
    "id": "wl5dzIaoKgdU"
   },
   "source": [
    "This improved function allows the user to pass in a location string and prints out the JSON object containing the week's weather forecast. Here's how it works:\n",
    "\n",
    "1.   First, we check to make sure that the user's input string isn't empty.\n",
    "2.   We then use this string to make an API call, which gets us a JSON object with information on that location (`json_location`).\n",
    "3.   We then check if the length of `json_location` is at least 1, meaning that at least 1 city was found.\n",
    "4.   If this is the case, we use the first \"woeid\" from that JSON object (`str(json_location[0]['woeid'])`) to make another API call which gets the weather (`json_weather`) for the given location.\n",
    "\n",
    "**Making multiple API calls in this way allows us to take a single string and turn it into an entire weather forecast in seconds!**"
   ]
  },
  {
   "cell_type": "markdown",
   "metadata": {
    "colab_type": "text",
    "id": "pqWtus2HBHAv"
   },
   "source": [
    "\n",
    "# **More Powerful APIs**\n",
    "\n",
    "So far, we've only really talked about APIs that are used to retrieve general information that was gathered and put together by some organization. There are some APIs that can do much more, and actually allow you to **interact with different platforms in powerful ways**. \n",
    "\n",
    "Let's look at the **Youtube API** as an example. Its documentation can be found [here](https://developers.google.com/youtube/v3/quickstart/python). The Youtube API allows developers to retrieve information about a given Youtube account. Using this API, you could design an application that allows you to essentially log into your Youtube account and see your subscriptions, liked videos, and view history from outside of Youtube. \n",
    "\n",
    "Another great example of a powerful API is the **Google Calendar API**, which can be found [here](https://developers.google.com/calendar/). Using this API, you can use more advanced requests to create new events in a user's calendar.\n",
    "\n",
    "It's important to keep in mind that these APIs **almost always require some form of authorization** since they directly interact with a live service. This also means that these APIs may restrict how you use them. If you are using a free-tier of these services, you may only be able to make a **certain number of requests per day**.\n",
    "\n",
    "# Next Section: [Web Scraping with BeautifulSoup](https://colab.research.google.com/github/HackBinghamton/Webscraping-APIsWorkshop/blob/master/web-scraping-with-beautifulsoup/web-scraping-with-beautifulsoup.ipynb)"
   ]
  }
 ],
 "metadata": {
  "colab": {
   "collapsed_sections": [],
   "name": "APIs.ipynb",
   "provenance": [],
   "toc_visible": true
  },
  "kernelspec": {
   "display_name": "Python 3",
   "language": "python",
   "name": "python3"
  },
  "language_info": {
   "codemirror_mode": {
    "name": "ipython",
    "version": 3
   },
   "file_extension": ".py",
   "mimetype": "text/x-python",
   "name": "python",
   "nbconvert_exporter": "python",
   "pygments_lexer": "ipython3",
   "version": "3.8.2"
  }
 },
 "nbformat": 4,
 "nbformat_minor": 1
}
