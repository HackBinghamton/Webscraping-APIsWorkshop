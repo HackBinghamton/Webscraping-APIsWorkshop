{
 "cells": [
  {
   "cell_type": "markdown",
   "metadata": {
    "colab_type": "text",
    "id": "4jvCNol7BQQQ"
   },
   "source": [
    "# Requests\n",
    "# Overview\n",
    "\n",
    "## What You'll Learn\n",
    "In this section, you'll learn\n",
    "1. How to make an HTTP request\n",
    "2. Functionalities of the `requests` library\n",
    "\n",
    "## Prerequisites\n",
    "Before starting this section, you should have an understanding of\n",
    "1. [JSON](https://colab.research.google.com/github/HackBinghamton/Webscraping-APIsWorkshop/blob/master/APIs/JSON.ipynb)\n",
    "\n",
    "## Introduction\n",
    "\n",
    "When you are working on one of your really cool projects (or even your not so cool projects), you might want to use data from an existing website. In order to use the data, you have to retrieve it first by making HTTP requests. As its name suggests, an HTTP request is when the browser (client) sends a request to the server in which it will return a response back to the browser. \n",
    "\n",
    "Python has a `requests` library that allows making HTTP requests simple! \n",
    "\n",
    "## The `requests` Library\n",
    "\n",
    "### The `get` method\n",
    "To start, we will go over the `get` method. \n",
    "\n",
    "`requests.get(<url>)` makes a request to whatever url you specify. For example, we could make a request to the HackBU github. Saving the request in a variable (`my_request` in the example below) allows you to actually use the information from the website requested. "
   ]
  },
  {
   "cell_type": "code",
   "execution_count": null,
   "metadata": {
    "colab": {},
    "colab_type": "code",
    "id": "iu0TMo1IFQXN"
   },
   "outputs": [],
   "source": [
    "import requests\n",
    "\n",
    "my_request=requests.get('https://github.com/HackBinghamton')\n",
    "print(my_request)\n"
   ]
  },
  {
   "cell_type": "markdown",
   "metadata": {
    "colab_type": "text",
    "id": "Ruli-6DiF3eX"
   },
   "source": [
    "If you run the code above, you should see `<Response [200]>` printed out. \n",
    "\n",
    "The method returns a `Response` object containing various information about the request such as the status code. \n",
    "\n",
    "### Status Codes\n",
    "\n",
    "In the example above, the number 200 represents the status code indicating that the request was successful. There are a number of status code results that you can read more about [here](https://en.wikipedia.org/wiki/List_of_HTTP_status_codes), but a common one that you might be familiar with is 404 Not Found.\n",
    "A 404 status code indicates that the request was unsuccessful if, for example, the url does not exist.\n",
    "\n",
    "You can retrieve the status code by calling `.status_code` on your `Response` object. As good practice, you should always check the status of your request and handle them accordingly."
   ]
  },
  {
   "cell_type": "code",
   "execution_count": null,
   "metadata": {
    "colab": {},
    "colab_type": "code",
    "id": "QqohbVn1HA3o"
   },
   "outputs": [],
   "source": [
    "import requests\n",
    "\n",
    "my_request=requests.get('https://github.com/HackBinghamton')\n",
    "print(my_request.status_code)\n",
    "\n",
    "if(my_request.status_code == 200):\n",
    "  print(\"yay\")\n",
    "if(my_request.status_code == 404):\n",
    "  print(\"file not found\")\n"
   ]
  },
  {
   "cell_type": "markdown",
   "metadata": {
    "colab_type": "text",
    "id": "g_rtYE-BJkeF"
   },
   "source": [
    "\n",
    "### Contents \n",
    "\n",
    "Now that you have made your request, you probably want to see the information you obtained. There are different ways and formats to view the content:\n",
    "\n",
    "1. `.content` - returns the raw bytes of the data file\n",
    "2. `.text` - converts and returns the raw bytes as strings\n",
    "3. `.headers` - returns a dictionary associating all of the header values with a key\n",
    "\n",
    "Run the next 3 code snippets in order to see what prints out!\n"
   ]
  },
  {
   "cell_type": "code",
   "execution_count": null,
   "metadata": {
    "colab": {},
    "colab_type": "code",
    "id": "MvwSwyGSKENf"
   },
   "outputs": [],
   "source": [
    "import requests\n",
    "\n",
    "my_request=requests.get('https://github.com/HackBinghamton')\n",
    "print(my_request.content)"
   ]
  },
  {
   "cell_type": "code",
   "execution_count": null,
   "metadata": {
    "colab": {},
    "colab_type": "code",
    "id": "07JJmAaObGTe"
   },
   "outputs": [],
   "source": [
    "print(my_request.text)"
   ]
  },
  {
   "cell_type": "code",
   "execution_count": null,
   "metadata": {
    "colab": {},
    "colab_type": "code",
    "id": "yYqlGedGbKqD"
   },
   "outputs": [],
   "source": [
    "print(my_request.headers)"
   ]
  },
  {
   "cell_type": "markdown",
   "metadata": {
    "colab_type": "text",
    "id": "XXI6n67ws8Q4"
   },
   "source": [
    "\n",
    "Since `.header` returns a dictionary, you can save it as a variable and use the keys to access different information easily."
   ]
  },
  {
   "cell_type": "code",
   "execution_count": null,
   "metadata": {
    "colab": {},
    "colab_type": "code",
    "id": "qhQ1DVNMstAj"
   },
   "outputs": [],
   "source": [
    "headers_dict=my_request.headers\n",
    "print(headers_dict['Date'])\n",
    "print(headers_dict['Server'])\n"
   ]
  },
  {
   "cell_type": "markdown",
   "metadata": {
    "colab_type": "text",
    "id": "5xYC03DduNlf"
   },
   "source": [
    "\n",
    "### Incorporating JSON\n",
    "\n",
    "The `requests` library also has a built in function for `.json()`, which you have read about in the previous section. This function returns the data in the specific JSON format so that it can easily be accessed. When passing in the url to `.get()`, you can also pass in parameters that will be appended to the url. If you run the code below, you can see the new url when `r.url` is printed."
   ]
  },
  {
   "cell_type": "code",
   "execution_count": null,
   "metadata": {
    "colab": {},
    "colab_type": "code",
    "id": "-CpAEB9Xueoa"
   },
   "outputs": [],
   "source": [
    "chosen_params= {'user_name': 'admin', 'password': 'password'}\n",
    "r = requests.get('http://httpbin.org/get', params=chosen_params)\n",
    "\n",
    "print(r.json())\n",
    "print(\"==============================================\")\n",
    "print(r.url)\n",
    "print(\"==============================================\")\n",
    "print(r.text)"
   ]
  },
  {
   "cell_type": "markdown",
   "metadata": {
    "colab_type": "text",
    "id": "Eo2dNIrlKkyu"
   },
   "source": [
    "When you do this for a website filled with data you want to access, this is extremely useful. \n",
    "\n",
    "There are tons of APIs used for extracting data that you can take advantage of in your projects. For example, if our project was analyzing weather data over the past 10 years, you could make requests to APIs that have this data available. The next section will talk more about APIs. \n"
   ]
  },
  {
   "cell_type": "markdown",
   "metadata": {
    "colab_type": "text",
    "id": "XPV_iSbI0q4y"
   },
   "source": [
    "## Exercise\n",
    "\n",
    "1. Make a request using the `get` method for a website of your choice (ex. Facebook, Twitter, LinkedIn, etc.) \n",
    "2. Print the status code of this website and use `.text` to print out the returned information\n",
    "3. Print out the headers of this website\n",
    "4. Print out specific information from the headers \n",
    "5. Print out the JSON information of the request "
   ]
  },
  {
   "cell_type": "code",
   "execution_count": null,
   "metadata": {
    "colab": {},
    "colab_type": "code",
    "id": "qWW3W2Sg21GP"
   },
   "outputs": [],
   "source": [
    "#YOUR CODE HERE"
   ]
  },
  {
   "cell_type": "markdown",
   "metadata": {
    "colab_type": "text",
    "id": "qXwy8coJ25lF"
   },
   "source": [
    "# Next Section: [APIs](https://colab.research.google.com/github/HackBinghamton/Webscraping-APIsWorkshop/blob/master/APIs/APIs.ipynb)"
   ]
  }
 ],
 "metadata": {
  "colab": {
   "name": "Requests.ipynb",
   "provenance": []
  },
  "kernelspec": {
   "display_name": "Python 3",
   "language": "python",
   "name": "python3"
  },
  "language_info": {
   "codemirror_mode": {
    "name": "ipython",
    "version": 3
   },
   "file_extension": ".py",
   "mimetype": "text/x-python",
   "name": "python",
   "nbconvert_exporter": "python",
   "pygments_lexer": "ipython3",
   "version": "3.8.2"
  }
 },
 "nbformat": 4,
 "nbformat_minor": 1
}
