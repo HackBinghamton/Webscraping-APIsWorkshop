{
  "nbformat": 4,
  "nbformat_minor": 0,
  "metadata": {
    "colab": {
      "name": "Requests.ipynb",
      "provenance": []
    },
    "kernelspec": {
      "name": "python3",
      "display_name": "Python 3"
    }
  },
  "cells": [
    {
      "cell_type": "markdown",
      "metadata": {
        "id": "4jvCNol7BQQQ",
        "colab_type": "text"
      },
      "source": [
        "# Requests\n",
        "## Overview\n",
        "\n",
        "### What You'll Learn\n",
        "In this section, you'll learn\n",
        "1. How to make a request\n",
        "2. The `get` method\n",
        "3. Other functionalities of the request library\n",
        "\n",
        "### Prerequisites\n",
        "Before starting this section, you should have an understanding of\n",
        "1. [JSON](link)\n",
        "\n",
        "### Introduction\n",
        "\n",
        "When you are working on one of your really cool projects (or even your not so cool projects), you might want to use data from an existing website. Python has a `requests` library that you can install, which lets you do this by making HTTP requests! When you want to use this library, don't forget to `import requests`. \n",
        "\n",
        "To start, we will go over the `get` method. \n",
        "\n",
        "`requests.get(<url>)` makes a request to whatever url you specify. For example, we could make a request to the HackBU github. Saving the request in a variable (in the example below `my_request`) allows you to actually use the information from the website requested. \n"
      ]
    },
    {
      "cell_type": "code",
      "metadata": {
        "id": "iu0TMo1IFQXN",
        "colab_type": "code",
        "outputId": "1b451cf8-b46f-465a-aec0-7cba26557742",
        "colab": {
          "base_uri": "https://localhost:8080/",
          "height": 34
        }
      },
      "source": [
        "import requests\n",
        "\n",
        "my_request=requests.get('https://github.com/HackBinghamton')\n",
        "print(my_request)\n"
      ],
      "execution_count": 0,
      "outputs": [
        {
          "output_type": "stream",
          "text": [
            "<Response [200]>\n"
          ],
          "name": "stdout"
        }
      ]
    },
    {
      "cell_type": "markdown",
      "metadata": {
        "id": "Ruli-6DiF3eX",
        "colab_type": "text"
      },
      "source": [
        "If you run the code above, you see \"<Response [200]>\" prints out, which means the request was successful! You can check the status of the request to see if it was unsuccessful. For example, if the url does not exist, the status code will be 404 instead 200. \n"
      ]
    },
    {
      "cell_type": "code",
      "metadata": {
        "id": "QqohbVn1HA3o",
        "colab_type": "code",
        "colab": {}
      },
      "source": [
        "import requests\n",
        "my_request=requests.get('https://github.com/HackBinghamton')\n",
        "print(my_request.status_code)\n",
        "if(my_request.status_code == 200):\n",
        "  print(\"yay\")\n",
        "if(my_request.status_code == 404):\n",
        "  print(\"file not found\")\n"
      ],
      "execution_count": 0,
      "outputs": []
    },
    {
      "cell_type": "markdown",
      "metadata": {
        "id": "g_rtYE-BJkeF",
        "colab_type": "text"
      },
      "source": [
        "Now that you have made your request, you probably want to see the information you obtained. With `.content` you can see the raw bytes of the data file, but that might not be that important for you, so you can do `.text` to convert these bytes to strings. There's a lot of other things you can do to read the information also. For example, `.headers` returns a dictionary associating all of the header values with a key. \n"
      ]
    },
    {
      "cell_type": "code",
      "metadata": {
        "id": "MvwSwyGSKENf",
        "colab_type": "code",
        "colab": {}
      },
      "source": [
        "import requests\n",
        "my_request=requests.get('https://github.com/HackBinghamton')\n",
        "print(my_request.content)\n",
        "print(\"=============================================================================\")\n",
        "print(my_request.text)\n",
        "print(\"=============================================================================\")\n",
        "print(my_request.headers)"
      ],
      "execution_count": 0,
      "outputs": []
    },
    {
      "cell_type": "markdown",
      "metadata": {
        "id": "XXI6n67ws8Q4",
        "colab_type": "text"
      },
      "source": [
        "You can save the headers dictionary as a variable and use the keys to access different information"
      ]
    },
    {
      "cell_type": "code",
      "metadata": {
        "id": "qhQ1DVNMstAj",
        "colab_type": "code",
        "colab": {}
      },
      "source": [
        "headers_dict=my_request.headers\n",
        "print(headers_dict['Date'])\n",
        "print(headers_dict['Server'])\n"
      ],
      "execution_count": 0,
      "outputs": []
    },
    {
      "cell_type": "markdown",
      "metadata": {
        "id": "5xYC03DduNlf",
        "colab_type": "text"
      },
      "source": [
        "The requests library also has a built in function for .json(), which you have read about in the previous section. This function returns the data in the specific JSON format so that it can easily be accessed. When passing in the url to `.get()`, you can also pass in parameters, which get added to the url. For example, if you run the code below, you can see the new url when `r.url` is printed."
      ]
    },
    {
      "cell_type": "code",
      "metadata": {
        "id": "-CpAEB9Xueoa",
        "colab_type": "code",
        "colab": {}
      },
      "source": [
        "chosen_params= {'user_name': 'admin', 'password': 'password'}\n",
        "r = requests.get('http://httpbin.org/get', params=chosen_params)\n",
        "\n",
        "print(r.json())\n",
        "print(\"==============================================\")\n",
        "print(r.url)\n",
        "print(\"==============================================\")\n",
        "print(r.text)"
      ],
      "execution_count": 0,
      "outputs": []
    },
    {
      "cell_type": "markdown",
      "metadata": {
        "id": "Eo2dNIrlKkyu",
        "colab_type": "text"
      },
      "source": [
        "When you do this for a website filled with data you want to access, this is extremely useful. Tons of APIs exist for the purpose of using the data that you can use in your projects. For example, if our project was analyzing weather data over the past 10 years, you could make requests to APIs that have this data available.\n"
      ]
    },
    {
      "cell_type": "markdown",
      "metadata": {
        "id": "XPV_iSbI0q4y",
        "colab_type": "text"
      },
      "source": [
        "### Exercise\n",
        "Make a request using `get` for a website of your choice. Print the status code of this website and use `.text` to print out the information of this website. Then, print out the headers of this website. After you have printed all of the headers, specifically print out just the server, and then print out the JSON information of the request. "
      ]
    },
    {
      "cell_type": "code",
      "metadata": {
        "id": "qWW3W2Sg21GP",
        "colab_type": "code",
        "colab": {}
      },
      "source": [
        "#YOUR CODE HERE"
      ],
      "execution_count": 0,
      "outputs": []
    },
    {
      "cell_type": "markdown",
      "metadata": {
        "id": "qXwy8coJ25lF",
        "colab_type": "text"
      },
      "source": [
        "Next Section: APIs"
      ]
    }
  ]
}